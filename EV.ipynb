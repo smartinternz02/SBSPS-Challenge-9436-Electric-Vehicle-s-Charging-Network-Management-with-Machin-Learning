{
 "cells": [
  {
   "cell_type": "code",
   "execution_count": null,
   "id": "b4d0275d",
   "metadata": {},
   "outputs": [],
   "source": [
    "import pandas as pd"
   ]
  },
  {
   "cell_type": "code",
   "execution_count": null,
   "id": "fd2fe08b",
   "metadata": {},
   "outputs": [],
   "source": [
    "EV=pd.read_csv(\"Data.csv\", index_col=\"Date\")"
   ]
  },
  {
   "cell_type": "code",
   "execution_count": null,
   "id": "c0d153cf",
   "metadata": {
    "scrolled": true
   },
   "outputs": [],
   "source": [
    "EV"
   ]
  },
  {
   "cell_type": "code",
   "execution_count": null,
   "id": "40d15f35",
   "metadata": {},
   "outputs": [],
   "source": [
    "EV.sum()"
   ]
  },
  {
   "cell_type": "code",
   "execution_count": null,
   "id": "00fe1e12",
   "metadata": {},
   "outputs": [],
   "source": [
    "EV.dtypes"
   ]
  },
  {
   "cell_type": "code",
   "execution_count": null,
   "id": "5d391714",
   "metadata": {},
   "outputs": [],
   "source": [
    "EV[[\"Duration\"]].plot()"
   ]
  },
  {
   "cell_type": "code",
   "execution_count": null,
   "id": "16d10683",
   "metadata": {},
   "outputs": [],
   "source": [
    "EV.index"
   ]
  },
  {
   "cell_type": "code",
   "execution_count": null,
   "id": "42776c07",
   "metadata": {},
   "outputs": [],
   "source": [
    "EV.index=pd.to_datetime(EV.index,infer_datetime_format=True)\n",
    "EV.index"
   ]
  },
  {
   "cell_type": "code",
   "execution_count": null,
   "id": "fd4c6284",
   "metadata": {},
   "outputs": [],
   "source": [
    "a=EV.index.value_counts().sort_index()\n",
    "i=0\n",
    "while i<50:\n",
    "    a.iloc[i:i+6].plot()\n",
    "    i+=5"
   ]
  },
  {
   "cell_type": "code",
   "execution_count": null,
   "id": "cfb495b6",
   "metadata": {},
   "outputs": [],
   "source": [
    "a"
   ]
  },
  {
   "cell_type": "code",
   "execution_count": null,
   "id": "519b2057",
   "metadata": {},
   "outputs": [],
   "source": [
    "EV[\"target\"]=EV.shift(-1)[\"Duration\"]"
   ]
  },
  {
   "cell_type": "code",
   "execution_count": null,
   "id": "404ff956",
   "metadata": {},
   "outputs": [],
   "source": [
    "EV"
   ]
  },
  {
   "cell_type": "code",
   "execution_count": null,
   "id": "4318b4bc",
   "metadata": {},
   "outputs": [],
   "source": [
    "from sklearn.linear_model import Ridge\n",
    "reg=Ridge(alpha=.1)"
   ]
  },
  {
   "cell_type": "code",
   "execution_count": null,
   "id": "2a0528d0",
   "metadata": {},
   "outputs": [],
   "source": [
    "predictors = [\"Duration\", \"Energy Consumed\"]"
   ]
  }
 ],
 "metadata": {
  "kernelspec": {
   "display_name": "Python 3 (ipykernel)",
   "language": "python",
   "name": "python3"
  },
  "language_info": {
   "codemirror_mode": {
    "name": "ipython",
    "version": 3
   },
   "file_extension": ".py",
   "mimetype": "text/x-python",
   "name": "python",
   "nbconvert_exporter": "python",
   "pygments_lexer": "ipython3",
   "version": "3.8.10"
  },
  "vscode": {
   "interpreter": {
    "hash": "916dbcbb3f70747c44a77c7bcd40155683ae19c65e1c03b4aa3499c5328201f1"
   }
  }
 },
 "nbformat": 4,
 "nbformat_minor": 5
}
